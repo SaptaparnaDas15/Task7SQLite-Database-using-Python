{
 "cells": [
  {
   "cell_type": "code",
   "execution_count": 1,
   "id": "9aba0378-5ad7-4a5b-b5db-6211bf0cdbd8",
   "metadata": {},
   "outputs": [],
   "source": [
    "import sqlite3"
   ]
  },
  {
   "cell_type": "code",
   "execution_count": 2,
   "id": "450bf616-54ea-4144-bacc-906ba3df3604",
   "metadata": {},
   "outputs": [],
   "source": [
    "import pandas as pd"
   ]
  },
  {
   "cell_type": "code",
   "execution_count": 3,
   "id": "3dc34964-a807-41aa-a72c-6a5684709036",
   "metadata": {},
   "outputs": [],
   "source": [
    "conn = sqlite3.connect(\"task7_database.db\")  # This creates a new SQLite database file\n",
    "cursor = conn.cursor()"
   ]
  },
  {
   "cell_type": "code",
   "execution_count": 4,
   "id": "83fc6669-ef06-4c5b-aad7-1f0c09412125",
   "metadata": {},
   "outputs": [],
   "source": [
    "cursor.execute('''\n",
    "    CREATE TABLE IF NOT EXISTS sales_data (\n",
    "        order_id INTEGER,\n",
    "        product_name TEXT,\n",
    "        category TEXT,\n",
    "        quantity INTEGER,\n",
    "        price REAL,\n",
    "        order_date TEXT\n",
    "    )\n",
    "''')\n",
    "conn.commit()"
   ]
  },
  {
   "cell_type": "code",
   "execution_count": 7,
   "id": "9b2c825a-131e-4d27-a7f6-e9a06f54c9b2",
   "metadata": {},
   "outputs": [],
   "source": [
    "df = pd.read_csv(\"F:/Task6 notes/Sales_data.csv\", encoding='latin1')"
   ]
  },
  {
   "cell_type": "code",
   "execution_count": 8,
   "id": "8bda334e-a05f-4e5c-b141-145eeb59ac34",
   "metadata": {},
   "outputs": [
    {
     "data": {
      "text/plain": [
       "3203"
      ]
     },
     "execution_count": 8,
     "metadata": {},
     "output_type": "execute_result"
    }
   ],
   "source": [
    "df.to_sql(\"sales_data\", conn, if_exists=\"replace\", index=False)"
   ]
  },
  {
   "cell_type": "code",
   "execution_count": 9,
   "id": "4cca8173-6d74-4ac6-acc8-4055093b412d",
   "metadata": {},
   "outputs": [
    {
     "data": {
      "text/html": [
       "<div>\n",
       "<style scoped>\n",
       "    .dataframe tbody tr th:only-of-type {\n",
       "        vertical-align: middle;\n",
       "    }\n",
       "\n",
       "    .dataframe tbody tr th {\n",
       "        vertical-align: top;\n",
       "    }\n",
       "\n",
       "    .dataframe thead th {\n",
       "        text-align: right;\n",
       "    }\n",
       "</style>\n",
       "<table border=\"1\" class=\"dataframe\">\n",
       "  <thead>\n",
       "    <tr style=\"text-align: right;\">\n",
       "      <th></th>\n",
       "      <th>OrderID</th>\n",
       "      <th>Product Name</th>\n",
       "      <th>Unnamed: 2</th>\n",
       "      <th>Category</th>\n",
       "      <th>Price</th>\n",
       "      <th>Quantity</th>\n",
       "      <th>OrderDate</th>\n",
       "    </tr>\n",
       "  </thead>\n",
       "  <tbody>\n",
       "    <tr>\n",
       "      <th>0</th>\n",
       "      <td>1</td>\n",
       "      <td>Bush Somerset Collection Bookcase</td>\n",
       "      <td>None</td>\n",
       "      <td>Furniture</td>\n",
       "      <td>261.96</td>\n",
       "      <td>2</td>\n",
       "      <td>2013-06-13</td>\n",
       "    </tr>\n",
       "    <tr>\n",
       "      <th>1</th>\n",
       "      <td>2</td>\n",
       "      <td>Hon Deluxe Fabric Upholstered Stacking Chairs,...</td>\n",
       "      <td>None</td>\n",
       "      <td>Furniture</td>\n",
       "      <td>731.94</td>\n",
       "      <td>3</td>\n",
       "      <td>2011-06-09</td>\n",
       "    </tr>\n",
       "    <tr>\n",
       "      <th>2</th>\n",
       "      <td>3</td>\n",
       "      <td>Self-Adhesive Address Labels for Typewriters b...</td>\n",
       "      <td>None</td>\n",
       "      <td>Office Supplies</td>\n",
       "      <td>14.62</td>\n",
       "      <td>2</td>\n",
       "      <td>2011-06-09</td>\n",
       "    </tr>\n",
       "    <tr>\n",
       "      <th>3</th>\n",
       "      <td>4</td>\n",
       "      <td>Bretford CR4500 Series Slim Rectangular Table</td>\n",
       "      <td>None</td>\n",
       "      <td>Furniture</td>\n",
       "      <td>957.58</td>\n",
       "      <td>5</td>\n",
       "      <td>2011-06-09</td>\n",
       "    </tr>\n",
       "    <tr>\n",
       "      <th>4</th>\n",
       "      <td>5</td>\n",
       "      <td>Eldon Fold 'N Roll Cart System</td>\n",
       "      <td>None</td>\n",
       "      <td>Office Supplies</td>\n",
       "      <td>22.37</td>\n",
       "      <td>2</td>\n",
       "      <td>2011-06-09</td>\n",
       "    </tr>\n",
       "  </tbody>\n",
       "</table>\n",
       "</div>"
      ],
      "text/plain": [
       "   OrderID                                       Product Name Unnamed: 2  \\\n",
       "0        1                  Bush Somerset Collection Bookcase       None   \n",
       "1        2  Hon Deluxe Fabric Upholstered Stacking Chairs,...       None   \n",
       "2        3  Self-Adhesive Address Labels for Typewriters b...       None   \n",
       "3        4      Bretford CR4500 Series Slim Rectangular Table       None   \n",
       "4        5                     Eldon Fold 'N Roll Cart System       None   \n",
       "\n",
       "          Category   Price  Quantity   OrderDate  \n",
       "0        Furniture  261.96         2  2013-06-13  \n",
       "1        Furniture  731.94         3  2011-06-09  \n",
       "2  Office Supplies   14.62         2  2011-06-09  \n",
       "3        Furniture  957.58         5  2011-06-09  \n",
       "4  Office Supplies   22.37         2  2011-06-09  "
      ]
     },
     "execution_count": 9,
     "metadata": {},
     "output_type": "execute_result"
    }
   ],
   "source": [
    "pd.read_sql_query(\"SELECT * FROM sales_data LIMIT 5\", conn)"
   ]
  },
  {
   "cell_type": "code",
   "execution_count": 12,
   "id": "f0e3d30a-0584-4e21-8132-43e6f7018b95",
   "metadata": {},
   "outputs": [
    {
     "name": "stdout",
     "output_type": "stream",
     "text": [
      "          Category  total_sales\n",
      "0       Technology   1516791.64\n",
      "1        Furniture   1233009.60\n",
      "2  Office Supplies   1130685.99\n"
     ]
    }
   ],
   "source": [
    "query = \"\"\"                                            \n",
    "SELECT category, SUM(quantity * price) AS total_sales   \n",
    "FROM sales_data\n",
    "GROUP BY category\n",
    "ORDER BY total_sales DESC\n",
    "\"\"\"\n",
    "result_df = pd.read_sql_query(query, conn)      # Total sales by category\n",
    "print(result_df)"
   ]
  },
  {
   "cell_type": "code",
   "execution_count": 14,
   "id": "ff50b145-b8ec-4a8f-8884-fd7f84852c25",
   "metadata": {},
   "outputs": [],
   "source": [
    "import matplotlib.pyplot as plt"
   ]
  },
  {
   "cell_type": "code",
   "execution_count": 17,
   "id": "7c236bba-730c-4b74-aa33-5e519193065f",
   "metadata": {},
   "outputs": [
    {
     "data": {
      "image/png": "[encoded data removed]",
      "text/plain": [
       "<Figure size 640x480 with 1 Axes>"
      ]
     },
     "metadata": {},
     "output_type": "display_data"
    }
   ],
   "source": [
    "result_df.plot(kind='bar', x='Category', y='total_sales', legend=False)   #Bar plot of total sales by category\n",
    "plt.title(\"Total Sales by Category\")\n",
    "plt.ylabel(\"Sales\")\n",
    "plt.show()\n"
   ]
  },
  {
   "cell_type": "code",
   "execution_count": 24,
   "id": "00fd9e52-9351-458c-b19d-58a3613220fa",
   "metadata": {},
   "outputs": [
    {
     "data": {
      "text/html": [
       "<div>\n",
       "<style scoped>\n",
       "    .dataframe tbody tr th:only-of-type {\n",
       "        vertical-align: middle;\n",
       "    }\n",
       "\n",
       "    .dataframe tbody tr th {\n",
       "        vertical-align: top;\n",
       "    }\n",
       "\n",
       "    .dataframe thead th {\n",
       "        text-align: right;\n",
       "    }\n",
       "</style>\n",
       "<table border=\"1\" class=\"dataframe\">\n",
       "  <thead>\n",
       "    <tr style=\"text-align: right;\">\n",
       "      <th></th>\n",
       "      <th>Product Name</th>\n",
       "      <th>total_quantity_sold</th>\n",
       "    </tr>\n",
       "  </thead>\n",
       "  <tbody>\n",
       "    <tr>\n",
       "      <th>0</th>\n",
       "      <td>Staples</td>\n",
       "      <td>94</td>\n",
       "    </tr>\n",
       "    <tr>\n",
       "      <th>1</th>\n",
       "      <td>Easy-staple paper</td>\n",
       "      <td>53</td>\n",
       "    </tr>\n",
       "    <tr>\n",
       "      <th>2</th>\n",
       "      <td>Staple envelope</td>\n",
       "      <td>51</td>\n",
       "    </tr>\n",
       "    <tr>\n",
       "      <th>3</th>\n",
       "      <td>Storex Dura Pro Binders</td>\n",
       "      <td>40</td>\n",
       "    </tr>\n",
       "    <tr>\n",
       "      <th>4</th>\n",
       "      <td>Fellowes Officeware Wire Shelving</td>\n",
       "      <td>38</td>\n",
       "    </tr>\n",
       "  </tbody>\n",
       "</table>\n",
       "</div>"
      ],
      "text/plain": [
       "                        Product Name  total_quantity_sold\n",
       "0                            Staples                   94\n",
       "1                  Easy-staple paper                   53\n",
       "2                    Staple envelope                   51\n",
       "3            Storex Dura Pro Binders                   40\n",
       "4  Fellowes Officeware Wire Shelving                   38"
      ]
     },
     "execution_count": 24,
     "metadata": {},
     "output_type": "execute_result"
    }
   ],
   "source": [
    "query = \"\"\"\n",
    "SELECT [Product Name], SUM(quantity) AS total_quantity_sold\n",
    "FROM sales_data\n",
    "GROUP BY [Product Name]\n",
    "ORDER BY total_quantity_sold DESC\n",
    "LIMIT 5\n",
    "\"\"\"\n",
    "\n",
    "top_products = pd.read_sql_query(query, conn)\n",
    "top_products"
   ]
  },
  {
   "cell_type": "code",
   "execution_count": 25,
   "id": "149690b0-6238-417f-b4b6-6fef18abafe3",
   "metadata": {},
   "outputs": [
    {
     "data": {
      "image/png": "[encoded data removed]",
      "text/plain": [
       "<Figure size 1000x600 with 1 Axes>"
      ]
     },
     "metadata": {},
     "output_type": "display_data"
    }
   ],
   "source": [
    "plt.figure(figsize=(10, 6))\n",
    "plt.bar(top_products[\"Product Name\"], top_products[\"total_quantity_sold\"], color='skyblue')\n",
    "\n",
    "# Add titles and labels\n",
    "plt.title(\"Top 5 Best-Selling Products\", fontsize=16)\n",
    "plt.xlabel(\"Product Name\", fontsize=12)\n",
    "plt.ylabel(\"Total Quantity Sold\", fontsize=12)\n",
    "plt.xticks(rotation=45, ha='right')  # Rotate labels for better visibility\n",
    "plt.tight_layout()\n",
    "plt.show()"
   ]
  },
  {
   "cell_type": "code",
   "execution_count": 18,
   "id": "ac9ee1af-8823-4161-a45f-81056e933655",
   "metadata": {},
   "outputs": [],
   "source": [
    "## Summary of Insights.\n",
    "Total Records Analyzed:\n",
    "A total of 3,203 rows of sales data were successfully imported and analyzed.\n",
    "\n",
    "Top-Selling Categories:\n",
    "Based on total sales (quantity × price), the highest revenue-generating categories are:\n",
    "\n",
    "Technology   1516791.64\n",
    "Furniture   1233009.60\n",
    "Office Supplies   1130685.99\n",
    "\n",
    "Best-Selling Products:\n",
    "Specific products with the highest number of units sold were:\n",
    "\n",
    "Staples\t94\n",
    "Easy-staple paper\t53\n",
    "Staple envelope\t51\n",
    "Storex Dura Pro Binders\t40\n",
    "Fellowes Officeware Wire Shelving\t38\n",
    "\n",
    "Suggestions for Business:\n",
    "\n",
    "Focus marketing on high-performing categories.\n",
    "\n",
    "Analyze low-performing products for improvement or discontinuation."
   ]
  }
 ],
 "metadata": {
  "kernelspec": {
   "display_name": "Python 3 (ipykernel)",
   "language": "python",
   "name": "python3"
  },
  "language_info": {
   "codemirror_mode": {
    "name": "ipython",
    "version": 3
   },
   "file_extension": ".py",
   "mimetype": "text/x-python",
   "name": "python",
   "nbconvert_exporter": "python",
   "pygments_lexer": "ipython3",
   "version": "3.12.2"
  }
 },
 "nbformat": 4,
 "nbformat_minor": 5
}
